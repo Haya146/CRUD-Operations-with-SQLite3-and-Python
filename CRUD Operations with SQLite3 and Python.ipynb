{
  "nbformat": 4,
  "nbformat_minor": 0,
  "metadata": {
    "colab": {
      "provenance": []
    },
    "kernelspec": {
      "name": "python3",
      "display_name": "Python 3"
    },
    "language_info": {
      "name": "python"
    }
  },
  "cells": [
    {
      "cell_type": "code",
      "execution_count": 1,
      "metadata": {
        "id": "mJHV-xLJS3BX"
      },
      "outputs": [],
      "source": [
        "import sqlite3"
      ]
    },
    {
      "cell_type": "code",
      "source": [
        "# connect to an SQLite database\n",
        "con = sqlite3.connect('example.db')\n",
        "con"
      ],
      "metadata": {
        "colab": {
          "base_uri": "https://localhost:8080/"
        },
        "id": "vURWxtT2S6IQ",
        "outputId": "5569cc78-6fd4-4de5-f1bc-d94006ef4e0b"
      },
      "execution_count": 2,
      "outputs": [
        {
          "output_type": "execute_result",
          "data": {
            "text/plain": [
              "<sqlite3.Connection at 0x7a9ecbba3a60>"
            ]
          },
          "metadata": {},
          "execution_count": 2
        }
      ]
    },
    {
      "cell_type": "code",
      "source": [
        "cur = con.cursor()"
      ],
      "metadata": {
        "id": "FwhwgzwUTPJV"
      },
      "execution_count": 3,
      "outputs": []
    },
    {
      "cell_type": "code",
      "source": [
        "# create a table\n",
        "cur.execute('''\n",
        "  CREATE TABLE IF NOT EXISTS employees(\n",
        "                id INTEGER PRIMARY KEY AUTOINCREMENT,\n",
        "                name TEXT NOT NULL,\n",
        "                age INTEGER,\n",
        "                department TEXT\n",
        "                )\n",
        "''')\n",
        "\n",
        "# commit the changes\n",
        "con.commit()"
      ],
      "metadata": {
        "id": "BiFrfGmbTe76"
      },
      "execution_count": 4,
      "outputs": []
    },
    {
      "cell_type": "code",
      "source": [
        "# Insert the data in sqlite table\n",
        "cur.execute('''\n",
        "  INSERT INTO employees(name,age,department)\n",
        "  VALUES ('Ahmed',22,'Data Scientist')\n",
        "''')\n",
        "\n",
        "cur.execute('''\n",
        "  INSERT INTO employees(name,age,department)\n",
        "  VALUES ('Ali ',35,'Engineering')\n",
        "''')\n",
        "\n",
        "cur.execute('''\n",
        "  INSERT INTO employees(name,age,department)\n",
        "  VALUES ('Sayed',42,'Finance')\n",
        "''')\n",
        "\n",
        "# commit the changes\n",
        "con.commit()"
      ],
      "metadata": {
        "id": "LbUw2JITUZha"
      },
      "execution_count": 7,
      "outputs": []
    },
    {
      "cell_type": "code",
      "source": [
        "# Query the data from the table\n",
        "cur.execute('''\n",
        "  SELECT * FROM employees\n",
        "''')\n",
        "rows = cur.fetchall()\n",
        "\n",
        "# print the quired data\n",
        "for row in rows:\n",
        "  print(row)"
      ],
      "metadata": {
        "colab": {
          "base_uri": "https://localhost:8080/"
        },
        "id": "EWstv9nxVhjQ",
        "outputId": "ce2d7c82-dea6-4970-f010-9b40fad57c7e"
      },
      "execution_count": 8,
      "outputs": [
        {
          "output_type": "stream",
          "name": "stdout",
          "text": [
            "(1, 'Ahmed', 22, 'Data Scientist')\n",
            "(2, 'Ali ', 35, 'Engineering')\n",
            "(3, 'Sayed', 42, 'Finance')\n"
          ]
        }
      ]
    },
    {
      "cell_type": "code",
      "source": [
        "# Update the data in the table\n",
        "\n",
        "cur.execute('''\n",
        "  UPDATE employees\n",
        "  SET age = 34\n",
        "  WHERE name = \"Ahmed\"\n",
        "''')\n",
        "\n",
        "con.commit()"
      ],
      "metadata": {
        "id": "Lol54uzGV6jh"
      },
      "execution_count": 10,
      "outputs": []
    },
    {
      "cell_type": "code",
      "source": [
        "# Query the data from the table\n",
        "cur.execute('''\n",
        "  SELECT * FROM employees\n",
        "''')\n",
        "rows = cur.fetchall()\n",
        "\n",
        "# print the quired data\n",
        "for row in rows:\n",
        "  print(row)"
      ],
      "metadata": {
        "colab": {
          "base_uri": "https://localhost:8080/"
        },
        "id": "-luOZiICWXUp",
        "outputId": "7963a065-4bbf-4326-c1e0-2524755da023"
      },
      "execution_count": 11,
      "outputs": [
        {
          "output_type": "stream",
          "name": "stdout",
          "text": [
            "(1, 'Ahmed', 34, 'Data Scientist')\n",
            "(2, 'Ali ', 35, 'Engineering')\n",
            "(3, 'Sayed', 42, 'Finance')\n"
          ]
        }
      ]
    },
    {
      "cell_type": "code",
      "source": [
        "# delete the data from the table\n",
        "\n",
        "cur.execute('''\n",
        "  DELETE FROM employees\n",
        "  WHERE name = 'Sayed'\n",
        "''')\n",
        "\n",
        "con.commit()"
      ],
      "metadata": {
        "id": "BJnb7XTrWcJu"
      },
      "execution_count": 12,
      "outputs": []
    },
    {
      "cell_type": "code",
      "source": [
        "# Query the data from the table\n",
        "cur.execute('''\n",
        "  SELECT * FROM employees\n",
        "''')\n",
        "rows = cur.fetchall()\n",
        "\n",
        "# print the quired data\n",
        "for row in rows:\n",
        "  print(row)"
      ],
      "metadata": {
        "colab": {
          "base_uri": "https://localhost:8080/"
        },
        "id": "ZLXxKSSZW42k",
        "outputId": "3fe41bde-c1f9-4543-8070-5766d7ba6bc0"
      },
      "execution_count": 13,
      "outputs": [
        {
          "output_type": "stream",
          "name": "stdout",
          "text": [
            "(1, 'Ahmed', 34, 'Data Scientist')\n",
            "(2, 'Ali ', 35, 'Engineering')\n"
          ]
        }
      ]
    },
    {
      "cell_type": "code",
      "source": [],
      "metadata": {
        "id": "DPZLC-dZW62-"
      },
      "execution_count": null,
      "outputs": []
    }
  ]
}