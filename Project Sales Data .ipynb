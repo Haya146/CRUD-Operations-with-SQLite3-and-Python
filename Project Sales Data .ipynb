{
  "nbformat": 4,
  "nbformat_minor": 0,
  "metadata": {
    "colab": {
      "provenance": []
    },
    "kernelspec": {
      "name": "python3",
      "display_name": "Python 3"
    },
    "language_info": {
      "name": "python"
    }
  },
  "cells": [
    {
      "cell_type": "code",
      "execution_count": 1,
      "metadata": {
        "id": "i8ubJ1v6XKmZ"
      },
      "outputs": [],
      "source": [
        "import sqlite3"
      ]
    },
    {
      "cell_type": "code",
      "source": [
        "from sqlite3.dbapi2 import Cursor\n",
        "# Connect to a SQLite database\n",
        "con = sqlite3.connect('sales_data.db')\n",
        "cur = con.cursor()\n",
        "\n",
        "# create a table for sales data\n",
        "cur.execute('''\n",
        "  CREATE TABLE IF NOT EXISTS sales(\n",
        "    id INTEGER PRIMARY KEY AUTOINCREMENT,\n",
        "    date TEXT NOT NULL,\n",
        "    product TEXT NOT NULL,\n",
        "    sales INTEGER,\n",
        "    reigon TEXT\n",
        "\n",
        "  )''')\n",
        "\n",
        "# insert data into the sales table\n",
        "sales_data = [\n",
        "    ('2023-01-01', 'product1', 100, 'North'),\n",
        "    ('2023-01-02', 'product2', 200, 'South'),\n",
        "    ('2023-01-03', 'product1', 150, 'East'),\n",
        "    ('2023-01-04', 'product3', 250, 'West'),\n",
        "    ('2023-01-05', 'product2', 300, 'North')\n",
        "]\n",
        "\n",
        "\n",
        "cur.executemany('''\n",
        "  INSERT INTO sales(date,product,sales,reigon)\n",
        "  VALUES(?,?,?,?)\n",
        "''',sales_data)\n",
        "\n",
        "con.commit()"
      ],
      "metadata": {
        "id": "Lz4bQB8zXQ2N"
      },
      "execution_count": 8,
      "outputs": []
    },
    {
      "cell_type": "code",
      "source": [
        "# Query the data from the table\n",
        "cur.execute('''\n",
        "  SELECT * FROM sales\n",
        "''')\n",
        "rows = cur.fetchall()\n",
        "\n",
        "# print the quired data\n",
        "for row in rows:\n",
        "  print(row)"
      ],
      "metadata": {
        "colab": {
          "base_uri": "https://localhost:8080/"
        },
        "id": "qcv_jJKbaSFD",
        "outputId": "d0e0a6f2-8907-47d8-ffde-8a60f58164d0"
      },
      "execution_count": 9,
      "outputs": [
        {
          "output_type": "stream",
          "name": "stdout",
          "text": [
            "(1, '2023-01-01', 'product1', 100, 'North')\n",
            "(2, '2023-01-02', 'product2', 200, 'South')\n",
            "(3, '2023-01-03', 'product1', 150, 'East')\n",
            "(4, '2023-01-04', 'product3', 250, 'West')\n",
            "(5, '2023-01-05', 'product2', 300, 'North')\n"
          ]
        }
      ]
    },
    {
      "cell_type": "code",
      "source": [
        "# close the connection\n",
        "con.close()"
      ],
      "metadata": {
        "id": "HBVAVP8lbuqn"
      },
      "execution_count": 10,
      "outputs": []
    },
    {
      "cell_type": "code",
      "source": [],
      "metadata": {
        "id": "BhNUdIg6b2oG"
      },
      "execution_count": null,
      "outputs": []
    }
  ]
}